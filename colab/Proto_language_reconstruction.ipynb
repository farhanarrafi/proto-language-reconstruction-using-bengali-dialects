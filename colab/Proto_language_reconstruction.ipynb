{
  "nbformat": 4,
  "nbformat_minor": 0,
  "metadata": {
    "colab": {
      "provenance": [],
      "gpuType": "A100",
      "authorship_tag": "ABX9TyPlnsPF7oCvnscHXQQGZUgY",
      "include_colab_link": true
    },
    "kernelspec": {
      "name": "python3",
      "display_name": "Python 3"
    },
    "language_info": {
      "name": "python"
    },
    "accelerator": "GPU"
  },
  "cells": [
    {
      "cell_type": "markdown",
      "metadata": {
        "id": "view-in-github",
        "colab_type": "text"
      },
      "source": [
        "<a href=\"https://colab.research.google.com/github/farhanarrafi/proto-language-reconstruction-using-bengali-dialects/blob/main/colab/Proto_language_reconstruction.ipynb\" target=\"_parent\"><img src=\"https://colab.research.google.com/assets/colab-badge.svg\" alt=\"Open In Colab\"/></a>"
      ]
    },
    {
      "cell_type": "code",
      "execution_count": 2,
      "metadata": {
        "id": "S7oSqtionRS9"
      },
      "outputs": [],
      "source": [
        "import os.path\n",
        "import json\n",
        "\n",
        "\n",
        "api_token = {\"username\":\"farhanarrafi\",\"key\":\"4f070f664abbd64c4eed43162a528d02\"}\n",
        "\n",
        "\n",
        "\n",
        "# https://stackoverflow.com/a/57401752/3148856\n",
        "if not os.path.isdir('/root/.kaggle'):\n",
        "  ! mkdir ~/.kaggle\n",
        "  ! touch ~/.kaggle/kaggle.json\n",
        "  with open('/root/.kaggle/kaggle.json', 'w') as file:\n",
        "      json.dump(api_token, file)\n",
        "  !chmod 600 ~/.kaggle/kaggle.json\n",
        "\n",
        "#! kaggle datasets list"
      ]
    },
    {
      "cell_type": "code",
      "source": [
        "import torch\n",
        "from tqdm import tqdm\n",
        "\n",
        "device = torch.device(\"cuda\" if torch.cuda.is_available() else \"cpu\")\n",
        "tqdm.pandas()"
      ],
      "metadata": {
        "id": "9AK4OVZQQbmD"
      },
      "execution_count": 5,
      "outputs": []
    },
    {
      "cell_type": "markdown",
      "source": [
        "### Download Dataset"
      ],
      "metadata": {
        "id": "KNuHW7JaIYIq"
      }
    },
    {
      "cell_type": "code",
      "source": [
        "if not os.path.isfile('BanglaDial.csv'):\n",
        "    ! kaggle datasets download -d farhanarrafi/bangladial-a-dataset-for-bengali-dialect-analysis\n",
        "    ! unzip bangladial-a-dataset-for-bengali-dialect-analysis.zip\n",
        "    ! rm -rf bangladial-a-dataset-for-bengali-dialect-analysis.zip"
      ],
      "metadata": {
        "colab": {
          "base_uri": "https://localhost:8080/"
        },
        "id": "GVSBTaEsGjjM",
        "outputId": "ee4b6e18-f7d0-4a4e-eb30-0c83c36f53fe"
      },
      "execution_count": null,
      "outputs": [
        {
          "output_type": "stream",
          "name": "stdout",
          "text": [
            "Dataset URL: https://www.kaggle.com/datasets/farhanarrafi/bangladial-a-dataset-for-bengali-dialect-analysis\n",
            "License(s): CC-BY-SA-4.0\n",
            "Archive:  bangladial-a-dataset-for-bengali-dialect-analysis.zip\n",
            "  inflating: BanglaDial.csv          \n",
            "  inflating: BanglaDial.xlsx         \n",
            "  inflating: BanglaDial_ A Merged and Imbalanced text Dataset for Bengali Regional dialect analysis. - Sheet1.csv  \n",
            "  inflating: BanglaDial_ A Merged and Imbalanced text Dataset for Bengali Regional dialect analysis..xlsx  \n"
          ]
        }
      ]
    },
    {
      "cell_type": "code",
      "source": [
        "import numpy as np # linear algebra\n",
        "import pandas as pd # data processing, CSV file I/O (e.g. pd.read_csv)\n",
        "\n",
        "\n",
        "bangladial_dataset = pd.read_csv('BanglaDial.csv')"
      ],
      "metadata": {
        "id": "TExE2MSZIXfz"
      },
      "execution_count": null,
      "outputs": []
    },
    {
      "cell_type": "code",
      "source": [
        "bangladial_dataset.head()"
      ],
      "metadata": {
        "colab": {
          "base_uri": "https://localhost:8080/",
          "height": 206
        },
        "id": "ULeaMV2qMZ3D",
        "outputId": "9d10c6a7-a6e0-4f16-f416-1f9acb63702c"
      },
      "execution_count": null,
      "outputs": [
        {
          "output_type": "execute_result",
          "data": {
            "text/plain": [
              "                                  Sentence         Language\n",
              "0                               কেমন আছো ?  Standard_Bangla\n",
              "1                    আজকে আমার মন ভালো নেই  Standard_Bangla\n",
              "2                            তুমি কি করো ?  Standard_Bangla\n",
              "3           এই গরমে আমার কিছু ভালো লাগে না  Standard_Bangla\n",
              "4  ছেলেটি সাদা রঙয়ের একটি শার্ট পরে এসেছিল  Standard_Bangla"
            ],
            "text/html": [
              "\n",
              "  <div id=\"df-437cb273-7d54-49f7-bf2e-9bed8e1ae896\" class=\"colab-df-container\">\n",
              "    <div>\n",
              "<style scoped>\n",
              "    .dataframe tbody tr th:only-of-type {\n",
              "        vertical-align: middle;\n",
              "    }\n",
              "\n",
              "    .dataframe tbody tr th {\n",
              "        vertical-align: top;\n",
              "    }\n",
              "\n",
              "    .dataframe thead th {\n",
              "        text-align: right;\n",
              "    }\n",
              "</style>\n",
              "<table border=\"1\" class=\"dataframe\">\n",
              "  <thead>\n",
              "    <tr style=\"text-align: right;\">\n",
              "      <th></th>\n",
              "      <th>Sentence</th>\n",
              "      <th>Language</th>\n",
              "    </tr>\n",
              "  </thead>\n",
              "  <tbody>\n",
              "    <tr>\n",
              "      <th>0</th>\n",
              "      <td>কেমন আছো ?</td>\n",
              "      <td>Standard_Bangla</td>\n",
              "    </tr>\n",
              "    <tr>\n",
              "      <th>1</th>\n",
              "      <td>আজকে আমার মন ভালো নেই</td>\n",
              "      <td>Standard_Bangla</td>\n",
              "    </tr>\n",
              "    <tr>\n",
              "      <th>2</th>\n",
              "      <td>তুমি কি করো ?</td>\n",
              "      <td>Standard_Bangla</td>\n",
              "    </tr>\n",
              "    <tr>\n",
              "      <th>3</th>\n",
              "      <td>এই গরমে আমার কিছু ভালো লাগে না</td>\n",
              "      <td>Standard_Bangla</td>\n",
              "    </tr>\n",
              "    <tr>\n",
              "      <th>4</th>\n",
              "      <td>ছেলেটি সাদা রঙয়ের একটি শার্ট পরে এসেছিল</td>\n",
              "      <td>Standard_Bangla</td>\n",
              "    </tr>\n",
              "  </tbody>\n",
              "</table>\n",
              "</div>\n",
              "    <div class=\"colab-df-buttons\">\n",
              "\n",
              "  <div class=\"colab-df-container\">\n",
              "    <button class=\"colab-df-convert\" onclick=\"convertToInteractive('df-437cb273-7d54-49f7-bf2e-9bed8e1ae896')\"\n",
              "            title=\"Convert this dataframe to an interactive table.\"\n",
              "            style=\"display:none;\">\n",
              "\n",
              "  <svg xmlns=\"http://www.w3.org/2000/svg\" height=\"24px\" viewBox=\"0 -960 960 960\">\n",
              "    <path d=\"M120-120v-720h720v720H120Zm60-500h600v-160H180v160Zm220 220h160v-160H400v160Zm0 220h160v-160H400v160ZM180-400h160v-160H180v160Zm440 0h160v-160H620v160ZM180-180h160v-160H180v160Zm440 0h160v-160H620v160Z\"/>\n",
              "  </svg>\n",
              "    </button>\n",
              "\n",
              "  <style>\n",
              "    .colab-df-container {\n",
              "      display:flex;\n",
              "      gap: 12px;\n",
              "    }\n",
              "\n",
              "    .colab-df-convert {\n",
              "      background-color: #E8F0FE;\n",
              "      border: none;\n",
              "      border-radius: 50%;\n",
              "      cursor: pointer;\n",
              "      display: none;\n",
              "      fill: #1967D2;\n",
              "      height: 32px;\n",
              "      padding: 0 0 0 0;\n",
              "      width: 32px;\n",
              "    }\n",
              "\n",
              "    .colab-df-convert:hover {\n",
              "      background-color: #E2EBFA;\n",
              "      box-shadow: 0px 1px 2px rgba(60, 64, 67, 0.3), 0px 1px 3px 1px rgba(60, 64, 67, 0.15);\n",
              "      fill: #174EA6;\n",
              "    }\n",
              "\n",
              "    .colab-df-buttons div {\n",
              "      margin-bottom: 4px;\n",
              "    }\n",
              "\n",
              "    [theme=dark] .colab-df-convert {\n",
              "      background-color: #3B4455;\n",
              "      fill: #D2E3FC;\n",
              "    }\n",
              "\n",
              "    [theme=dark] .colab-df-convert:hover {\n",
              "      background-color: #434B5C;\n",
              "      box-shadow: 0px 1px 3px 1px rgba(0, 0, 0, 0.15);\n",
              "      filter: drop-shadow(0px 1px 2px rgba(0, 0, 0, 0.3));\n",
              "      fill: #FFFFFF;\n",
              "    }\n",
              "  </style>\n",
              "\n",
              "    <script>\n",
              "      const buttonEl =\n",
              "        document.querySelector('#df-437cb273-7d54-49f7-bf2e-9bed8e1ae896 button.colab-df-convert');\n",
              "      buttonEl.style.display =\n",
              "        google.colab.kernel.accessAllowed ? 'block' : 'none';\n",
              "\n",
              "      async function convertToInteractive(key) {\n",
              "        const element = document.querySelector('#df-437cb273-7d54-49f7-bf2e-9bed8e1ae896');\n",
              "        const dataTable =\n",
              "          await google.colab.kernel.invokeFunction('convertToInteractive',\n",
              "                                                    [key], {});\n",
              "        if (!dataTable) return;\n",
              "\n",
              "        const docLinkHtml = 'Like what you see? Visit the ' +\n",
              "          '<a target=\"_blank\" href=https://colab.research.google.com/notebooks/data_table.ipynb>data table notebook</a>'\n",
              "          + ' to learn more about interactive tables.';\n",
              "        element.innerHTML = '';\n",
              "        dataTable['output_type'] = 'display_data';\n",
              "        await google.colab.output.renderOutput(dataTable, element);\n",
              "        const docLink = document.createElement('div');\n",
              "        docLink.innerHTML = docLinkHtml;\n",
              "        element.appendChild(docLink);\n",
              "      }\n",
              "    </script>\n",
              "  </div>\n",
              "\n",
              "\n",
              "<div id=\"df-32d83168-ba47-48e5-9d4f-3e3c6c2ecd46\">\n",
              "  <button class=\"colab-df-quickchart\" onclick=\"quickchart('df-32d83168-ba47-48e5-9d4f-3e3c6c2ecd46')\"\n",
              "            title=\"Suggest charts\"\n",
              "            style=\"display:none;\">\n",
              "\n",
              "<svg xmlns=\"http://www.w3.org/2000/svg\" height=\"24px\"viewBox=\"0 0 24 24\"\n",
              "     width=\"24px\">\n",
              "    <g>\n",
              "        <path d=\"M19 3H5c-1.1 0-2 .9-2 2v14c0 1.1.9 2 2 2h14c1.1 0 2-.9 2-2V5c0-1.1-.9-2-2-2zM9 17H7v-7h2v7zm4 0h-2V7h2v10zm4 0h-2v-4h2v4z\"/>\n",
              "    </g>\n",
              "</svg>\n",
              "  </button>\n",
              "\n",
              "<style>\n",
              "  .colab-df-quickchart {\n",
              "      --bg-color: #E8F0FE;\n",
              "      --fill-color: #1967D2;\n",
              "      --hover-bg-color: #E2EBFA;\n",
              "      --hover-fill-color: #174EA6;\n",
              "      --disabled-fill-color: #AAA;\n",
              "      --disabled-bg-color: #DDD;\n",
              "  }\n",
              "\n",
              "  [theme=dark] .colab-df-quickchart {\n",
              "      --bg-color: #3B4455;\n",
              "      --fill-color: #D2E3FC;\n",
              "      --hover-bg-color: #434B5C;\n",
              "      --hover-fill-color: #FFFFFF;\n",
              "      --disabled-bg-color: #3B4455;\n",
              "      --disabled-fill-color: #666;\n",
              "  }\n",
              "\n",
              "  .colab-df-quickchart {\n",
              "    background-color: var(--bg-color);\n",
              "    border: none;\n",
              "    border-radius: 50%;\n",
              "    cursor: pointer;\n",
              "    display: none;\n",
              "    fill: var(--fill-color);\n",
              "    height: 32px;\n",
              "    padding: 0;\n",
              "    width: 32px;\n",
              "  }\n",
              "\n",
              "  .colab-df-quickchart:hover {\n",
              "    background-color: var(--hover-bg-color);\n",
              "    box-shadow: 0 1px 2px rgba(60, 64, 67, 0.3), 0 1px 3px 1px rgba(60, 64, 67, 0.15);\n",
              "    fill: var(--button-hover-fill-color);\n",
              "  }\n",
              "\n",
              "  .colab-df-quickchart-complete:disabled,\n",
              "  .colab-df-quickchart-complete:disabled:hover {\n",
              "    background-color: var(--disabled-bg-color);\n",
              "    fill: var(--disabled-fill-color);\n",
              "    box-shadow: none;\n",
              "  }\n",
              "\n",
              "  .colab-df-spinner {\n",
              "    border: 2px solid var(--fill-color);\n",
              "    border-color: transparent;\n",
              "    border-bottom-color: var(--fill-color);\n",
              "    animation:\n",
              "      spin 1s steps(1) infinite;\n",
              "  }\n",
              "\n",
              "  @keyframes spin {\n",
              "    0% {\n",
              "      border-color: transparent;\n",
              "      border-bottom-color: var(--fill-color);\n",
              "      border-left-color: var(--fill-color);\n",
              "    }\n",
              "    20% {\n",
              "      border-color: transparent;\n",
              "      border-left-color: var(--fill-color);\n",
              "      border-top-color: var(--fill-color);\n",
              "    }\n",
              "    30% {\n",
              "      border-color: transparent;\n",
              "      border-left-color: var(--fill-color);\n",
              "      border-top-color: var(--fill-color);\n",
              "      border-right-color: var(--fill-color);\n",
              "    }\n",
              "    40% {\n",
              "      border-color: transparent;\n",
              "      border-right-color: var(--fill-color);\n",
              "      border-top-color: var(--fill-color);\n",
              "    }\n",
              "    60% {\n",
              "      border-color: transparent;\n",
              "      border-right-color: var(--fill-color);\n",
              "    }\n",
              "    80% {\n",
              "      border-color: transparent;\n",
              "      border-right-color: var(--fill-color);\n",
              "      border-bottom-color: var(--fill-color);\n",
              "    }\n",
              "    90% {\n",
              "      border-color: transparent;\n",
              "      border-bottom-color: var(--fill-color);\n",
              "    }\n",
              "  }\n",
              "</style>\n",
              "\n",
              "  <script>\n",
              "    async function quickchart(key) {\n",
              "      const quickchartButtonEl =\n",
              "        document.querySelector('#' + key + ' button');\n",
              "      quickchartButtonEl.disabled = true;  // To prevent multiple clicks.\n",
              "      quickchartButtonEl.classList.add('colab-df-spinner');\n",
              "      try {\n",
              "        const charts = await google.colab.kernel.invokeFunction(\n",
              "            'suggestCharts', [key], {});\n",
              "      } catch (error) {\n",
              "        console.error('Error during call to suggestCharts:', error);\n",
              "      }\n",
              "      quickchartButtonEl.classList.remove('colab-df-spinner');\n",
              "      quickchartButtonEl.classList.add('colab-df-quickchart-complete');\n",
              "    }\n",
              "    (() => {\n",
              "      let quickchartButtonEl =\n",
              "        document.querySelector('#df-32d83168-ba47-48e5-9d4f-3e3c6c2ecd46 button');\n",
              "      quickchartButtonEl.style.display =\n",
              "        google.colab.kernel.accessAllowed ? 'block' : 'none';\n",
              "    })();\n",
              "  </script>\n",
              "</div>\n",
              "\n",
              "    </div>\n",
              "  </div>\n"
            ],
            "application/vnd.google.colaboratory.intrinsic+json": {
              "type": "dataframe",
              "variable_name": "bangladial_dataset",
              "summary": "{\n  \"name\": \"bangladial_dataset\",\n  \"rows\": 63303,\n  \"fields\": [\n    {\n      \"column\": \"Sentence\",\n      \"properties\": {\n        \"dtype\": \"string\",\n        \"num_unique_values\": 60729,\n        \"samples\": [\n          \"\\u0986 \\u0986 \\u0986\\u09ae\\u09be\\u09b0 \\u09b2\\u0997\\u09c7 <> \\u0997\\u09c7\\u09b2\\u09c7 \\u09a4\\u09cb \\u098f\\u0995\\u099f\\u09be \\u0995\\u09a4\\u09be \\u0995\\u09df \\u09a8\\u09be\\u0964\",\n          \"\\u09ac\\u09a8\\u09cd\\u09a7\\u09c1, \\u099f\\u09cd\\u09af\\u09be\\u0982\\u09b0\\u09be \\u09ae\\u09be\\u099a, \\u0995\\u09bf\\u09a8\\u09bf \\u09a8\\u09bf\\u09df\\u09be \\u0997\\u09c7\\u099a\\u09bf\\u09b2\\u09be\\u09ae \\u0986\\u09ae\\u09bf <> \\u09a5\\u09c7\\u0995\\u09c7, \\u0993\\u0987 \\u099f\\u09cd\\u09af\\u09be\\u0982\\u09b0\\u09be \\u09ae\\u09be\\u099a\\u0997\\u09c1\\u09b2\\u09be \\u0995\\u09b0\\u099a\\u09bf\\u09b2\\u09be\\u09ae \\u0986\\u09b0 \\u0995\\u099a\\u09bf \\u09ae\\u09c1\\u09b0\\u0997\\u09bf\",\n          \"\\u09b8\\u09c7 \\u0986\\u09ac\\u09be\\u09b0 \\u0986\\u09ae\\u09be\\u0995\\u09c7 \\u09ab\\u09cb\\u09a8 \\u09a6\\u09bf\\u099b\\u09c7\\u0964\"\n        ],\n        \"semantic_type\": \"\",\n        \"description\": \"\"\n      }\n    },\n    {\n      \"column\": \"Language\",\n      \"properties\": {\n        \"dtype\": \"category\",\n        \"num_unique_values\": 12,\n        \"samples\": [\n          \"Tangail\",\n          \"Narsingdi\",\n          \"Standard_Bangla\"\n        ],\n        \"semantic_type\": \"\",\n        \"description\": \"\"\n      }\n    }\n  ]\n}"
            }
          },
          "metadata": {},
          "execution_count": 4
        }
      ]
    },
    {
      "cell_type": "code",
      "source": [
        "bangladial_languages = bangladial_dataset['Language'].unique()"
      ],
      "metadata": {
        "id": "i0i2IGPJI8z2"
      },
      "execution_count": null,
      "outputs": []
    },
    {
      "cell_type": "code",
      "source": [
        "bangladial_dataset.shape"
      ],
      "metadata": {
        "colab": {
          "base_uri": "https://localhost:8080/"
        },
        "id": "kFow7nECNNJ7",
        "outputId": "b870de37-996b-4027-ddab-aa36c6c5c82a"
      },
      "execution_count": null,
      "outputs": [
        {
          "output_type": "execute_result",
          "data": {
            "text/plain": [
              "(63303, 2)"
            ]
          },
          "metadata": {},
          "execution_count": 6
        }
      ]
    },
    {
      "cell_type": "code",
      "source": [
        "# bangladial_dataset['row'] = bangladial_dataset.groupby('Language').cumcount()\n",
        "\n",
        "# # Pivot the table\n",
        "# bangladial = bangladial_dataset.pivot(index='row', columns='Language', values='Sentence')\n",
        "\n",
        "# # Optional: reset index if you want a clean DataFrame\n",
        "# bangladial = bangladial.reset_index(drop=True)\n"
      ],
      "metadata": {
        "id": "on3bUILuL3x9"
      },
      "execution_count": null,
      "outputs": []
    },
    {
      "cell_type": "code",
      "source": [
        "bangladial = bangladial_dataset\n",
        "bangladial.head(10)"
      ],
      "metadata": {
        "colab": {
          "base_uri": "https://localhost:8080/",
          "height": 363
        },
        "id": "OCdQyuihPBo7",
        "outputId": "6e443c6d-61ee-4ebb-88c6-a2de733370a0"
      },
      "execution_count": null,
      "outputs": [
        {
          "output_type": "execute_result",
          "data": {
            "text/plain": [
              "                                            Sentence         Language\n",
              "0                                         কেমন আছো ?  Standard_Bangla\n",
              "1                              আজকে আমার মন ভালো নেই  Standard_Bangla\n",
              "2                                      তুমি কি করো ?  Standard_Bangla\n",
              "3                     এই গরমে আমার কিছু ভালো লাগে না  Standard_Bangla\n",
              "4            ছেলেটি সাদা রঙয়ের একটি শার্ট পরে এসেছিল  Standard_Bangla\n",
              "5  মেয়েটি লাল রঙয়ের শাড়ি পরে আমার সাথে দেখা করতে ...  Standard_Bangla\n",
              "6                      ছেলেটি সিলেট থেকে ঢাকায় এসেছে  Standard_Bangla\n",
              "7     মেয়েটি সিলেট থেকে আসা এই ছেলেটিকে অনেক ভালবাসে  Standard_Bangla\n",
              "8          ছেলেটি মেয়েটাকে এখনো ভালবাসার চোখে দেখেনি  Standard_Bangla\n",
              "9  মেয়েটি তাঁর সব স্বপ্নের মধ্যে ছেলেটাকে কল্পনা করে  Standard_Bangla"
            ],
            "text/html": [
              "\n",
              "  <div id=\"df-c619b027-243a-4329-8b7e-b8d2f2afebf0\" class=\"colab-df-container\">\n",
              "    <div>\n",
              "<style scoped>\n",
              "    .dataframe tbody tr th:only-of-type {\n",
              "        vertical-align: middle;\n",
              "    }\n",
              "\n",
              "    .dataframe tbody tr th {\n",
              "        vertical-align: top;\n",
              "    }\n",
              "\n",
              "    .dataframe thead th {\n",
              "        text-align: right;\n",
              "    }\n",
              "</style>\n",
              "<table border=\"1\" class=\"dataframe\">\n",
              "  <thead>\n",
              "    <tr style=\"text-align: right;\">\n",
              "      <th></th>\n",
              "      <th>Sentence</th>\n",
              "      <th>Language</th>\n",
              "    </tr>\n",
              "  </thead>\n",
              "  <tbody>\n",
              "    <tr>\n",
              "      <th>0</th>\n",
              "      <td>কেমন আছো ?</td>\n",
              "      <td>Standard_Bangla</td>\n",
              "    </tr>\n",
              "    <tr>\n",
              "      <th>1</th>\n",
              "      <td>আজকে আমার মন ভালো নেই</td>\n",
              "      <td>Standard_Bangla</td>\n",
              "    </tr>\n",
              "    <tr>\n",
              "      <th>2</th>\n",
              "      <td>তুমি কি করো ?</td>\n",
              "      <td>Standard_Bangla</td>\n",
              "    </tr>\n",
              "    <tr>\n",
              "      <th>3</th>\n",
              "      <td>এই গরমে আমার কিছু ভালো লাগে না</td>\n",
              "      <td>Standard_Bangla</td>\n",
              "    </tr>\n",
              "    <tr>\n",
              "      <th>4</th>\n",
              "      <td>ছেলেটি সাদা রঙয়ের একটি শার্ট পরে এসেছিল</td>\n",
              "      <td>Standard_Bangla</td>\n",
              "    </tr>\n",
              "    <tr>\n",
              "      <th>5</th>\n",
              "      <td>মেয়েটি লাল রঙয়ের শাড়ি পরে আমার সাথে দেখা করতে ...</td>\n",
              "      <td>Standard_Bangla</td>\n",
              "    </tr>\n",
              "    <tr>\n",
              "      <th>6</th>\n",
              "      <td>ছেলেটি সিলেট থেকে ঢাকায় এসেছে</td>\n",
              "      <td>Standard_Bangla</td>\n",
              "    </tr>\n",
              "    <tr>\n",
              "      <th>7</th>\n",
              "      <td>মেয়েটি সিলেট থেকে আসা এই ছেলেটিকে অনেক ভালবাসে</td>\n",
              "      <td>Standard_Bangla</td>\n",
              "    </tr>\n",
              "    <tr>\n",
              "      <th>8</th>\n",
              "      <td>ছেলেটি মেয়েটাকে এখনো ভালবাসার চোখে দেখেনি</td>\n",
              "      <td>Standard_Bangla</td>\n",
              "    </tr>\n",
              "    <tr>\n",
              "      <th>9</th>\n",
              "      <td>মেয়েটি তাঁর সব স্বপ্নের মধ্যে ছেলেটাকে কল্পনা করে</td>\n",
              "      <td>Standard_Bangla</td>\n",
              "    </tr>\n",
              "  </tbody>\n",
              "</table>\n",
              "</div>\n",
              "    <div class=\"colab-df-buttons\">\n",
              "\n",
              "  <div class=\"colab-df-container\">\n",
              "    <button class=\"colab-df-convert\" onclick=\"convertToInteractive('df-c619b027-243a-4329-8b7e-b8d2f2afebf0')\"\n",
              "            title=\"Convert this dataframe to an interactive table.\"\n",
              "            style=\"display:none;\">\n",
              "\n",
              "  <svg xmlns=\"http://www.w3.org/2000/svg\" height=\"24px\" viewBox=\"0 -960 960 960\">\n",
              "    <path d=\"M120-120v-720h720v720H120Zm60-500h600v-160H180v160Zm220 220h160v-160H400v160Zm0 220h160v-160H400v160ZM180-400h160v-160H180v160Zm440 0h160v-160H620v160ZM180-180h160v-160H180v160Zm440 0h160v-160H620v160Z\"/>\n",
              "  </svg>\n",
              "    </button>\n",
              "\n",
              "  <style>\n",
              "    .colab-df-container {\n",
              "      display:flex;\n",
              "      gap: 12px;\n",
              "    }\n",
              "\n",
              "    .colab-df-convert {\n",
              "      background-color: #E8F0FE;\n",
              "      border: none;\n",
              "      border-radius: 50%;\n",
              "      cursor: pointer;\n",
              "      display: none;\n",
              "      fill: #1967D2;\n",
              "      height: 32px;\n",
              "      padding: 0 0 0 0;\n",
              "      width: 32px;\n",
              "    }\n",
              "\n",
              "    .colab-df-convert:hover {\n",
              "      background-color: #E2EBFA;\n",
              "      box-shadow: 0px 1px 2px rgba(60, 64, 67, 0.3), 0px 1px 3px 1px rgba(60, 64, 67, 0.15);\n",
              "      fill: #174EA6;\n",
              "    }\n",
              "\n",
              "    .colab-df-buttons div {\n",
              "      margin-bottom: 4px;\n",
              "    }\n",
              "\n",
              "    [theme=dark] .colab-df-convert {\n",
              "      background-color: #3B4455;\n",
              "      fill: #D2E3FC;\n",
              "    }\n",
              "\n",
              "    [theme=dark] .colab-df-convert:hover {\n",
              "      background-color: #434B5C;\n",
              "      box-shadow: 0px 1px 3px 1px rgba(0, 0, 0, 0.15);\n",
              "      filter: drop-shadow(0px 1px 2px rgba(0, 0, 0, 0.3));\n",
              "      fill: #FFFFFF;\n",
              "    }\n",
              "  </style>\n",
              "\n",
              "    <script>\n",
              "      const buttonEl =\n",
              "        document.querySelector('#df-c619b027-243a-4329-8b7e-b8d2f2afebf0 button.colab-df-convert');\n",
              "      buttonEl.style.display =\n",
              "        google.colab.kernel.accessAllowed ? 'block' : 'none';\n",
              "\n",
              "      async function convertToInteractive(key) {\n",
              "        const element = document.querySelector('#df-c619b027-243a-4329-8b7e-b8d2f2afebf0');\n",
              "        const dataTable =\n",
              "          await google.colab.kernel.invokeFunction('convertToInteractive',\n",
              "                                                    [key], {});\n",
              "        if (!dataTable) return;\n",
              "\n",
              "        const docLinkHtml = 'Like what you see? Visit the ' +\n",
              "          '<a target=\"_blank\" href=https://colab.research.google.com/notebooks/data_table.ipynb>data table notebook</a>'\n",
              "          + ' to learn more about interactive tables.';\n",
              "        element.innerHTML = '';\n",
              "        dataTable['output_type'] = 'display_data';\n",
              "        await google.colab.output.renderOutput(dataTable, element);\n",
              "        const docLink = document.createElement('div');\n",
              "        docLink.innerHTML = docLinkHtml;\n",
              "        element.appendChild(docLink);\n",
              "      }\n",
              "    </script>\n",
              "  </div>\n",
              "\n",
              "\n",
              "<div id=\"df-382d8d21-939e-4e5a-8a3a-989d59024f06\">\n",
              "  <button class=\"colab-df-quickchart\" onclick=\"quickchart('df-382d8d21-939e-4e5a-8a3a-989d59024f06')\"\n",
              "            title=\"Suggest charts\"\n",
              "            style=\"display:none;\">\n",
              "\n",
              "<svg xmlns=\"http://www.w3.org/2000/svg\" height=\"24px\"viewBox=\"0 0 24 24\"\n",
              "     width=\"24px\">\n",
              "    <g>\n",
              "        <path d=\"M19 3H5c-1.1 0-2 .9-2 2v14c0 1.1.9 2 2 2h14c1.1 0 2-.9 2-2V5c0-1.1-.9-2-2-2zM9 17H7v-7h2v7zm4 0h-2V7h2v10zm4 0h-2v-4h2v4z\"/>\n",
              "    </g>\n",
              "</svg>\n",
              "  </button>\n",
              "\n",
              "<style>\n",
              "  .colab-df-quickchart {\n",
              "      --bg-color: #E8F0FE;\n",
              "      --fill-color: #1967D2;\n",
              "      --hover-bg-color: #E2EBFA;\n",
              "      --hover-fill-color: #174EA6;\n",
              "      --disabled-fill-color: #AAA;\n",
              "      --disabled-bg-color: #DDD;\n",
              "  }\n",
              "\n",
              "  [theme=dark] .colab-df-quickchart {\n",
              "      --bg-color: #3B4455;\n",
              "      --fill-color: #D2E3FC;\n",
              "      --hover-bg-color: #434B5C;\n",
              "      --hover-fill-color: #FFFFFF;\n",
              "      --disabled-bg-color: #3B4455;\n",
              "      --disabled-fill-color: #666;\n",
              "  }\n",
              "\n",
              "  .colab-df-quickchart {\n",
              "    background-color: var(--bg-color);\n",
              "    border: none;\n",
              "    border-radius: 50%;\n",
              "    cursor: pointer;\n",
              "    display: none;\n",
              "    fill: var(--fill-color);\n",
              "    height: 32px;\n",
              "    padding: 0;\n",
              "    width: 32px;\n",
              "  }\n",
              "\n",
              "  .colab-df-quickchart:hover {\n",
              "    background-color: var(--hover-bg-color);\n",
              "    box-shadow: 0 1px 2px rgba(60, 64, 67, 0.3), 0 1px 3px 1px rgba(60, 64, 67, 0.15);\n",
              "    fill: var(--button-hover-fill-color);\n",
              "  }\n",
              "\n",
              "  .colab-df-quickchart-complete:disabled,\n",
              "  .colab-df-quickchart-complete:disabled:hover {\n",
              "    background-color: var(--disabled-bg-color);\n",
              "    fill: var(--disabled-fill-color);\n",
              "    box-shadow: none;\n",
              "  }\n",
              "\n",
              "  .colab-df-spinner {\n",
              "    border: 2px solid var(--fill-color);\n",
              "    border-color: transparent;\n",
              "    border-bottom-color: var(--fill-color);\n",
              "    animation:\n",
              "      spin 1s steps(1) infinite;\n",
              "  }\n",
              "\n",
              "  @keyframes spin {\n",
              "    0% {\n",
              "      border-color: transparent;\n",
              "      border-bottom-color: var(--fill-color);\n",
              "      border-left-color: var(--fill-color);\n",
              "    }\n",
              "    20% {\n",
              "      border-color: transparent;\n",
              "      border-left-color: var(--fill-color);\n",
              "      border-top-color: var(--fill-color);\n",
              "    }\n",
              "    30% {\n",
              "      border-color: transparent;\n",
              "      border-left-color: var(--fill-color);\n",
              "      border-top-color: var(--fill-color);\n",
              "      border-right-color: var(--fill-color);\n",
              "    }\n",
              "    40% {\n",
              "      border-color: transparent;\n",
              "      border-right-color: var(--fill-color);\n",
              "      border-top-color: var(--fill-color);\n",
              "    }\n",
              "    60% {\n",
              "      border-color: transparent;\n",
              "      border-right-color: var(--fill-color);\n",
              "    }\n",
              "    80% {\n",
              "      border-color: transparent;\n",
              "      border-right-color: var(--fill-color);\n",
              "      border-bottom-color: var(--fill-color);\n",
              "    }\n",
              "    90% {\n",
              "      border-color: transparent;\n",
              "      border-bottom-color: var(--fill-color);\n",
              "    }\n",
              "  }\n",
              "</style>\n",
              "\n",
              "  <script>\n",
              "    async function quickchart(key) {\n",
              "      const quickchartButtonEl =\n",
              "        document.querySelector('#' + key + ' button');\n",
              "      quickchartButtonEl.disabled = true;  // To prevent multiple clicks.\n",
              "      quickchartButtonEl.classList.add('colab-df-spinner');\n",
              "      try {\n",
              "        const charts = await google.colab.kernel.invokeFunction(\n",
              "            'suggestCharts', [key], {});\n",
              "      } catch (error) {\n",
              "        console.error('Error during call to suggestCharts:', error);\n",
              "      }\n",
              "      quickchartButtonEl.classList.remove('colab-df-spinner');\n",
              "      quickchartButtonEl.classList.add('colab-df-quickchart-complete');\n",
              "    }\n",
              "    (() => {\n",
              "      let quickchartButtonEl =\n",
              "        document.querySelector('#df-382d8d21-939e-4e5a-8a3a-989d59024f06 button');\n",
              "      quickchartButtonEl.style.display =\n",
              "        google.colab.kernel.accessAllowed ? 'block' : 'none';\n",
              "    })();\n",
              "  </script>\n",
              "</div>\n",
              "\n",
              "    </div>\n",
              "  </div>\n"
            ],
            "application/vnd.google.colaboratory.intrinsic+json": {
              "type": "dataframe",
              "variable_name": "bangladial",
              "summary": "{\n  \"name\": \"bangladial\",\n  \"rows\": 63303,\n  \"fields\": [\n    {\n      \"column\": \"Sentence\",\n      \"properties\": {\n        \"dtype\": \"string\",\n        \"num_unique_values\": 60729,\n        \"samples\": [\n          \"\\u0986 \\u0986 \\u0986\\u09ae\\u09be\\u09b0 \\u09b2\\u0997\\u09c7 <> \\u0997\\u09c7\\u09b2\\u09c7 \\u09a4\\u09cb \\u098f\\u0995\\u099f\\u09be \\u0995\\u09a4\\u09be \\u0995\\u09df \\u09a8\\u09be\\u0964\",\n          \"\\u09ac\\u09a8\\u09cd\\u09a7\\u09c1, \\u099f\\u09cd\\u09af\\u09be\\u0982\\u09b0\\u09be \\u09ae\\u09be\\u099a, \\u0995\\u09bf\\u09a8\\u09bf \\u09a8\\u09bf\\u09df\\u09be \\u0997\\u09c7\\u099a\\u09bf\\u09b2\\u09be\\u09ae \\u0986\\u09ae\\u09bf <> \\u09a5\\u09c7\\u0995\\u09c7, \\u0993\\u0987 \\u099f\\u09cd\\u09af\\u09be\\u0982\\u09b0\\u09be \\u09ae\\u09be\\u099a\\u0997\\u09c1\\u09b2\\u09be \\u0995\\u09b0\\u099a\\u09bf\\u09b2\\u09be\\u09ae \\u0986\\u09b0 \\u0995\\u099a\\u09bf \\u09ae\\u09c1\\u09b0\\u0997\\u09bf\",\n          \"\\u09b8\\u09c7 \\u0986\\u09ac\\u09be\\u09b0 \\u0986\\u09ae\\u09be\\u0995\\u09c7 \\u09ab\\u09cb\\u09a8 \\u09a6\\u09bf\\u099b\\u09c7\\u0964\"\n        ],\n        \"semantic_type\": \"\",\n        \"description\": \"\"\n      }\n    },\n    {\n      \"column\": \"Language\",\n      \"properties\": {\n        \"dtype\": \"category\",\n        \"num_unique_values\": 12,\n        \"samples\": [\n          \"Tangail\",\n          \"Narsingdi\",\n          \"Standard_Bangla\"\n        ],\n        \"semantic_type\": \"\",\n        \"description\": \"\"\n      }\n    }\n  ]\n}"
            }
          },
          "metadata": {},
          "execution_count": 8
        }
      ]
    },
    {
      "cell_type": "code",
      "source": [
        "if not os.path.isfile('Vashantor/Final/Classification.csv'):\n",
        "    ! kaggle datasets download -d raiyanzannat/vashantor\n",
        "    ! unzip vashantor.zip\n",
        "    ! rm -rf vashantor.zip"
      ],
      "metadata": {
        "id": "yesEMtyh71yT",
        "colab": {
          "base_uri": "https://localhost:8080/"
        },
        "outputId": "76e1a006-6f06-4442-c90f-805a21130fcf"
      },
      "execution_count": null,
      "outputs": [
        {
          "output_type": "stream",
          "name": "stdout",
          "text": [
            "Dataset URL: https://www.kaggle.com/datasets/raiyanzannat/vashantor\n",
            "License(s): apache-2.0\n",
            "Archive:  vashantor.zip\n",
            "  inflating: Vashantor/Combined/Barishal_Combined_Translation.csv  \n",
            "  inflating: Vashantor/Combined/Chittagong_Combined_Translation.csv  \n",
            "  inflating: Vashantor/Combined/Mymensingh_Combined_Translation.csv  \n",
            "  inflating: Vashantor/Combined/Noakhali_Combined_Translation.csv  \n",
            "  inflating: Vashantor/Combined/Sylhet_Combined_Translation.csv  \n",
            "  inflating: Vashantor/Final/Barishal.csv  \n",
            "  inflating: Vashantor/Final/Chittagong.csv  \n",
            "  inflating: Vashantor/Final/Classification.csv  \n",
            "  inflating: Vashantor/Final/Mymensingh.csv  \n",
            "  inflating: Vashantor/Final/Noakhali.csv  \n",
            "  inflating: Vashantor/Final/Sylhet.csv  \n"
          ]
        }
      ]
    },
    {
      "cell_type": "code",
      "source": [
        "vashantor_barishal = pd.read_csv('Vashantor/Final/Barishal.csv')\n",
        "vashantor_chittagong = pd.read_csv('Vashantor/Final/Chittagong.csv')\n",
        "vashantor_noakhali = pd.read_csv('Vashantor/Final/Noakhali.csv')\n",
        "vashantor_mymensingh = pd.read_csv('Vashantor/Final/Mymensingh.csv')\n",
        "vashantor_sylhet = pd.read_csv('Vashantor/Final/Sylhet.csv')"
      ],
      "metadata": {
        "id": "Xi3XC-Yw8iA4"
      },
      "execution_count": null,
      "outputs": []
    },
    {
      "cell_type": "code",
      "source": [
        "vashantor_barishal.columns = vashantor_barishal.columns.str.strip()\n",
        "vashantor_chittagong.columns = vashantor_chittagong.columns.str.strip()\n",
        "vashantor_noakhali.columns = vashantor_noakhali.columns.str.strip()\n",
        "vashantor_mymensingh.columns = vashantor_mymensingh.columns.str.strip()\n",
        "vashantor_sylhet.columns = vashantor_sylhet.columns.str.strip()"
      ],
      "metadata": {
        "id": "agXVqHQQMB04"
      },
      "execution_count": null,
      "outputs": []
    },
    {
      "cell_type": "code",
      "source": [
        "vashantor_barishal = vashantor_barishal.dropna()\n",
        "vashantor_chittagong = vashantor_chittagong.dropna()\n",
        "vashantor_noakhali = vashantor_noakhali.dropna()\n",
        "vashantor_mymensingh = vashantor_mymensingh.dropna()\n",
        "vashantor_sylhet = vashantor_sylhet.dropna()"
      ],
      "metadata": {
        "id": "SeSuWQCUMNns"
      },
      "execution_count": null,
      "outputs": []
    },
    {
      "cell_type": "code",
      "source": [
        "\"\"\"\n",
        "  The format of the input text MUST BE: <district> <bengali_text>\n",
        "\"\"\"\n",
        "vashantor_barishal['combined'] = vashantor_barishal['region_name'] + ' ' + vashantor_barishal['regional_text']\n",
        "vashantor_chittagong['combined'] = vashantor_chittagong['region_name'] + ' ' + vashantor_chittagong['regional_text']\n",
        "vashantor_noakhali['combined'] = vashantor_noakhali['region_name'] + ' ' + vashantor_noakhali['regional_text']\n",
        "vashantor_mymensingh['combined'] = vashantor_mymensingh['region_name'] + ' ' + vashantor_mymensingh['regional_text']\n",
        "vashantor_sylhet['combined'] = vashantor_sylhet['region_name'] + ' ' + vashantor_sylhet['regional_text']"
      ],
      "metadata": {
        "collapsed": true,
        "id": "FXNaRviMMXgX"
      },
      "execution_count": null,
      "outputs": []
    },
    {
      "cell_type": "code",
      "source": [
        "vashantor_chittagong.head()"
      ],
      "metadata": {
        "colab": {
          "base_uri": "https://localhost:8080/",
          "height": 206
        },
        "id": "_DyulTYF_dCi",
        "outputId": "ecdcf3f0-b686-469b-b1c2-e7056e66937f"
      },
      "execution_count": null,
      "outputs": [
        {
          "output_type": "execute_result",
          "data": {
            "text/plain": [
              "                         regional_text                      bangla_speech  \\\n",
              "0               বাংলাদেশত ৬৪ ইয়ান জেলা               বাংলাদেশে ৬৪ টা জেলা   \n",
              "1  আরা বেয়াক্কুন গতহালিয়া বাইরে গেইলাম  আমরা সবাই গতকাল বাহিরে গিয়েছিলাম    \n",
              "2      তোইয়ার হতা বলার ধরণ বহুত সুন্দর    তোমার কথা বলার ধরন অনেক সুন্দর    \n",
              "3          বরিশালর মানুষ হইল্লে অয় দে?           বরিশালের মানুষ কেমন হয়?    \n",
              "4      খুলনা জেলা কি বহুত সুন্দর নাকি?        খুলনা জেলা কি অনেক সুন্দর?    \n",
              "\n",
              "  region_name                                        combined  \n",
              "0  Chittagong               Chittagong বাংলাদেশত ৬৪ ইয়ান জেলা  \n",
              "1  Chittagong  Chittagong আরা বেয়াক্কুন গতহালিয়া বাইরে গেইলাম  \n",
              "2  Chittagong      Chittagong তোইয়ার হতা বলার ধরণ বহুত সুন্দর  \n",
              "3  Chittagong          Chittagong বরিশালর মানুষ হইল্লে অয় দে?  \n",
              "4  Chittagong     Chittagong  খুলনা জেলা কি বহুত সুন্দর নাকি?  "
            ],
            "text/html": [
              "\n",
              "  <div id=\"df-1aec42f5-cf6f-40ff-bc80-dcacf1620158\" class=\"colab-df-container\">\n",
              "    <div>\n",
              "<style scoped>\n",
              "    .dataframe tbody tr th:only-of-type {\n",
              "        vertical-align: middle;\n",
              "    }\n",
              "\n",
              "    .dataframe tbody tr th {\n",
              "        vertical-align: top;\n",
              "    }\n",
              "\n",
              "    .dataframe thead th {\n",
              "        text-align: right;\n",
              "    }\n",
              "</style>\n",
              "<table border=\"1\" class=\"dataframe\">\n",
              "  <thead>\n",
              "    <tr style=\"text-align: right;\">\n",
              "      <th></th>\n",
              "      <th>regional_text</th>\n",
              "      <th>bangla_speech</th>\n",
              "      <th>region_name</th>\n",
              "      <th>combined</th>\n",
              "    </tr>\n",
              "  </thead>\n",
              "  <tbody>\n",
              "    <tr>\n",
              "      <th>0</th>\n",
              "      <td>বাংলাদেশত ৬৪ ইয়ান জেলা</td>\n",
              "      <td>বাংলাদেশে ৬৪ টা জেলা</td>\n",
              "      <td>Chittagong</td>\n",
              "      <td>Chittagong বাংলাদেশত ৬৪ ইয়ান জেলা</td>\n",
              "    </tr>\n",
              "    <tr>\n",
              "      <th>1</th>\n",
              "      <td>আরা বেয়াক্কুন গতহালিয়া বাইরে গেইলাম</td>\n",
              "      <td>আমরা সবাই গতকাল বাহিরে গিয়েছিলাম</td>\n",
              "      <td>Chittagong</td>\n",
              "      <td>Chittagong আরা বেয়াক্কুন গতহালিয়া বাইরে গেইলাম</td>\n",
              "    </tr>\n",
              "    <tr>\n",
              "      <th>2</th>\n",
              "      <td>তোইয়ার হতা বলার ধরণ বহুত সুন্দর</td>\n",
              "      <td>তোমার কথা বলার ধরন অনেক সুন্দর</td>\n",
              "      <td>Chittagong</td>\n",
              "      <td>Chittagong তোইয়ার হতা বলার ধরণ বহুত সুন্দর</td>\n",
              "    </tr>\n",
              "    <tr>\n",
              "      <th>3</th>\n",
              "      <td>বরিশালর মানুষ হইল্লে অয় দে?</td>\n",
              "      <td>বরিশালের মানুষ কেমন হয়?</td>\n",
              "      <td>Chittagong</td>\n",
              "      <td>Chittagong বরিশালর মানুষ হইল্লে অয় দে?</td>\n",
              "    </tr>\n",
              "    <tr>\n",
              "      <th>4</th>\n",
              "      <td>খুলনা জেলা কি বহুত সুন্দর নাকি?</td>\n",
              "      <td>খুলনা জেলা কি অনেক সুন্দর?</td>\n",
              "      <td>Chittagong</td>\n",
              "      <td>Chittagong  খুলনা জেলা কি বহুত সুন্দর নাকি?</td>\n",
              "    </tr>\n",
              "  </tbody>\n",
              "</table>\n",
              "</div>\n",
              "    <div class=\"colab-df-buttons\">\n",
              "\n",
              "  <div class=\"colab-df-container\">\n",
              "    <button class=\"colab-df-convert\" onclick=\"convertToInteractive('df-1aec42f5-cf6f-40ff-bc80-dcacf1620158')\"\n",
              "            title=\"Convert this dataframe to an interactive table.\"\n",
              "            style=\"display:none;\">\n",
              "\n",
              "  <svg xmlns=\"http://www.w3.org/2000/svg\" height=\"24px\" viewBox=\"0 -960 960 960\">\n",
              "    <path d=\"M120-120v-720h720v720H120Zm60-500h600v-160H180v160Zm220 220h160v-160H400v160Zm0 220h160v-160H400v160ZM180-400h160v-160H180v160Zm440 0h160v-160H620v160ZM180-180h160v-160H180v160Zm440 0h160v-160H620v160Z\"/>\n",
              "  </svg>\n",
              "    </button>\n",
              "\n",
              "  <style>\n",
              "    .colab-df-container {\n",
              "      display:flex;\n",
              "      gap: 12px;\n",
              "    }\n",
              "\n",
              "    .colab-df-convert {\n",
              "      background-color: #E8F0FE;\n",
              "      border: none;\n",
              "      border-radius: 50%;\n",
              "      cursor: pointer;\n",
              "      display: none;\n",
              "      fill: #1967D2;\n",
              "      height: 32px;\n",
              "      padding: 0 0 0 0;\n",
              "      width: 32px;\n",
              "    }\n",
              "\n",
              "    .colab-df-convert:hover {\n",
              "      background-color: #E2EBFA;\n",
              "      box-shadow: 0px 1px 2px rgba(60, 64, 67, 0.3), 0px 1px 3px 1px rgba(60, 64, 67, 0.15);\n",
              "      fill: #174EA6;\n",
              "    }\n",
              "\n",
              "    .colab-df-buttons div {\n",
              "      margin-bottom: 4px;\n",
              "    }\n",
              "\n",
              "    [theme=dark] .colab-df-convert {\n",
              "      background-color: #3B4455;\n",
              "      fill: #D2E3FC;\n",
              "    }\n",
              "\n",
              "    [theme=dark] .colab-df-convert:hover {\n",
              "      background-color: #434B5C;\n",
              "      box-shadow: 0px 1px 3px 1px rgba(0, 0, 0, 0.15);\n",
              "      filter: drop-shadow(0px 1px 2px rgba(0, 0, 0, 0.3));\n",
              "      fill: #FFFFFF;\n",
              "    }\n",
              "  </style>\n",
              "\n",
              "    <script>\n",
              "      const buttonEl =\n",
              "        document.querySelector('#df-1aec42f5-cf6f-40ff-bc80-dcacf1620158 button.colab-df-convert');\n",
              "      buttonEl.style.display =\n",
              "        google.colab.kernel.accessAllowed ? 'block' : 'none';\n",
              "\n",
              "      async function convertToInteractive(key) {\n",
              "        const element = document.querySelector('#df-1aec42f5-cf6f-40ff-bc80-dcacf1620158');\n",
              "        const dataTable =\n",
              "          await google.colab.kernel.invokeFunction('convertToInteractive',\n",
              "                                                    [key], {});\n",
              "        if (!dataTable) return;\n",
              "\n",
              "        const docLinkHtml = 'Like what you see? Visit the ' +\n",
              "          '<a target=\"_blank\" href=https://colab.research.google.com/notebooks/data_table.ipynb>data table notebook</a>'\n",
              "          + ' to learn more about interactive tables.';\n",
              "        element.innerHTML = '';\n",
              "        dataTable['output_type'] = 'display_data';\n",
              "        await google.colab.output.renderOutput(dataTable, element);\n",
              "        const docLink = document.createElement('div');\n",
              "        docLink.innerHTML = docLinkHtml;\n",
              "        element.appendChild(docLink);\n",
              "      }\n",
              "    </script>\n",
              "  </div>\n",
              "\n",
              "\n",
              "<div id=\"df-6f47e717-5f28-4278-b35f-7a14ee81b0bc\">\n",
              "  <button class=\"colab-df-quickchart\" onclick=\"quickchart('df-6f47e717-5f28-4278-b35f-7a14ee81b0bc')\"\n",
              "            title=\"Suggest charts\"\n",
              "            style=\"display:none;\">\n",
              "\n",
              "<svg xmlns=\"http://www.w3.org/2000/svg\" height=\"24px\"viewBox=\"0 0 24 24\"\n",
              "     width=\"24px\">\n",
              "    <g>\n",
              "        <path d=\"M19 3H5c-1.1 0-2 .9-2 2v14c0 1.1.9 2 2 2h14c1.1 0 2-.9 2-2V5c0-1.1-.9-2-2-2zM9 17H7v-7h2v7zm4 0h-2V7h2v10zm4 0h-2v-4h2v4z\"/>\n",
              "    </g>\n",
              "</svg>\n",
              "  </button>\n",
              "\n",
              "<style>\n",
              "  .colab-df-quickchart {\n",
              "      --bg-color: #E8F0FE;\n",
              "      --fill-color: #1967D2;\n",
              "      --hover-bg-color: #E2EBFA;\n",
              "      --hover-fill-color: #174EA6;\n",
              "      --disabled-fill-color: #AAA;\n",
              "      --disabled-bg-color: #DDD;\n",
              "  }\n",
              "\n",
              "  [theme=dark] .colab-df-quickchart {\n",
              "      --bg-color: #3B4455;\n",
              "      --fill-color: #D2E3FC;\n",
              "      --hover-bg-color: #434B5C;\n",
              "      --hover-fill-color: #FFFFFF;\n",
              "      --disabled-bg-color: #3B4455;\n",
              "      --disabled-fill-color: #666;\n",
              "  }\n",
              "\n",
              "  .colab-df-quickchart {\n",
              "    background-color: var(--bg-color);\n",
              "    border: none;\n",
              "    border-radius: 50%;\n",
              "    cursor: pointer;\n",
              "    display: none;\n",
              "    fill: var(--fill-color);\n",
              "    height: 32px;\n",
              "    padding: 0;\n",
              "    width: 32px;\n",
              "  }\n",
              "\n",
              "  .colab-df-quickchart:hover {\n",
              "    background-color: var(--hover-bg-color);\n",
              "    box-shadow: 0 1px 2px rgba(60, 64, 67, 0.3), 0 1px 3px 1px rgba(60, 64, 67, 0.15);\n",
              "    fill: var(--button-hover-fill-color);\n",
              "  }\n",
              "\n",
              "  .colab-df-quickchart-complete:disabled,\n",
              "  .colab-df-quickchart-complete:disabled:hover {\n",
              "    background-color: var(--disabled-bg-color);\n",
              "    fill: var(--disabled-fill-color);\n",
              "    box-shadow: none;\n",
              "  }\n",
              "\n",
              "  .colab-df-spinner {\n",
              "    border: 2px solid var(--fill-color);\n",
              "    border-color: transparent;\n",
              "    border-bottom-color: var(--fill-color);\n",
              "    animation:\n",
              "      spin 1s steps(1) infinite;\n",
              "  }\n",
              "\n",
              "  @keyframes spin {\n",
              "    0% {\n",
              "      border-color: transparent;\n",
              "      border-bottom-color: var(--fill-color);\n",
              "      border-left-color: var(--fill-color);\n",
              "    }\n",
              "    20% {\n",
              "      border-color: transparent;\n",
              "      border-left-color: var(--fill-color);\n",
              "      border-top-color: var(--fill-color);\n",
              "    }\n",
              "    30% {\n",
              "      border-color: transparent;\n",
              "      border-left-color: var(--fill-color);\n",
              "      border-top-color: var(--fill-color);\n",
              "      border-right-color: var(--fill-color);\n",
              "    }\n",
              "    40% {\n",
              "      border-color: transparent;\n",
              "      border-right-color: var(--fill-color);\n",
              "      border-top-color: var(--fill-color);\n",
              "    }\n",
              "    60% {\n",
              "      border-color: transparent;\n",
              "      border-right-color: var(--fill-color);\n",
              "    }\n",
              "    80% {\n",
              "      border-color: transparent;\n",
              "      border-right-color: var(--fill-color);\n",
              "      border-bottom-color: var(--fill-color);\n",
              "    }\n",
              "    90% {\n",
              "      border-color: transparent;\n",
              "      border-bottom-color: var(--fill-color);\n",
              "    }\n",
              "  }\n",
              "</style>\n",
              "\n",
              "  <script>\n",
              "    async function quickchart(key) {\n",
              "      const quickchartButtonEl =\n",
              "        document.querySelector('#' + key + ' button');\n",
              "      quickchartButtonEl.disabled = true;  // To prevent multiple clicks.\n",
              "      quickchartButtonEl.classList.add('colab-df-spinner');\n",
              "      try {\n",
              "        const charts = await google.colab.kernel.invokeFunction(\n",
              "            'suggestCharts', [key], {});\n",
              "      } catch (error) {\n",
              "        console.error('Error during call to suggestCharts:', error);\n",
              "      }\n",
              "      quickchartButtonEl.classList.remove('colab-df-spinner');\n",
              "      quickchartButtonEl.classList.add('colab-df-quickchart-complete');\n",
              "    }\n",
              "    (() => {\n",
              "      let quickchartButtonEl =\n",
              "        document.querySelector('#df-6f47e717-5f28-4278-b35f-7a14ee81b0bc button');\n",
              "      quickchartButtonEl.style.display =\n",
              "        google.colab.kernel.accessAllowed ? 'block' : 'none';\n",
              "    })();\n",
              "  </script>\n",
              "</div>\n",
              "\n",
              "    </div>\n",
              "  </div>\n"
            ],
            "application/vnd.google.colaboratory.intrinsic+json": {
              "type": "dataframe",
              "variable_name": "vashantor_chittagong",
              "summary": "{\n  \"name\": \"vashantor_chittagong\",\n  \"rows\": 2499,\n  \"fields\": [\n    {\n      \"column\": \"regional_text\",\n      \"properties\": {\n        \"dtype\": \"string\",\n        \"num_unique_values\": 2498,\n        \"samples\": [\n          \"\\u09ac\\u09b9\\u09c1\\u09c1 \\u09a6\\u09bf\\u09a8 \\u09a6\\u09b0\\u09bf\\u09df\\u09c7\\u09b0\\u09c7 \\u0987\\u09a8 \\u09a8\\u09cb \\u0996\\u09c1\\u09b2\\u09c7\",\n          \"\\u0986\\u0987 \\u0993\\u09b0\\u09c7 \\u09b9\\u0987\\u09a6\\u09bf\\u09df\\u09bf \\u0986\\u0987 \\u09a4\\u09cb\\u0993\\u09df\\u09be\\u09b0 \\u09ab\\u09cb\\u09df\\u09be\\u09b0\\u09bf\\u09a4 \\u09b8\\u0982\\u09b8\\u09be\\u09b0 \\u09a8\\u09cb \\u0997\\u0987\\u099c\\u09cd\\u099c\\u09c1\\u09ae\",\n          \"\\u09ab\\u09cb\\u09df\\u09be \\u09ae\\u09be\\u0987\\u09df\\u09cd\\u09af\\u09be \\u098f\\u0995\\u099c\\u09a8 \\u0986\\u09b0\\u09c7\\u0995\\u099c\\u09a8 \\u0985\\u09b0\\u09c7 \\u09ab\\u09cd\\u09b0\\u099a\\u09a8\\u09cd\\u09a1 \\u09ac\\u09be\\u09b2\\u09ac\\u09be\\u09b8\\u09c7\"\n        ],\n        \"semantic_type\": \"\",\n        \"description\": \"\"\n      }\n    },\n    {\n      \"column\": \"bangla_speech\",\n      \"properties\": {\n        \"dtype\": \"string\",\n        \"num_unique_values\": 2499,\n        \"samples\": [\n          \"\\u098f\\u0995\\u099f\\u09bf \\u09b6\\u09ac\\u09cd\\u09a6\\u09c7\\u09b0 \\u0985\\u09a8\\u09c7\\u0995 \\u09b0\\u0995\\u09ae \\u0985\\u09b0\\u09cd\\u09a5 \\u09a5\\u09be\\u0995\\u09a4\\u09c7 \\u09aa\\u09be\\u09b0\\u09c7\",\n          \"\\u0986\\u09ae\\u09bf \\u0993\\u0995\\u09c7 \\u09ac\\u09b2\\u09c7 \\u09a6\\u09bf\\u09af\\u09bc\\u09c7\\u099b\\u09bf \\u0986\\u09ae\\u09bf \\u0986\\u09b0 \\u09a4\\u09cb\\u09ae\\u09be\\u09b0 \\u09b8\\u09be\\u09a5\\u09c7 \\u09b8\\u0982\\u09b8\\u09be\\u09b0 \\u0995\\u09b0\\u09ac\\u09cb \\u09a8\\u09be\",\n          \"\\u099b\\u09c7\\u09b2\\u09c7 \\u09ae\\u09c7\\u09df\\u09c7 \\u098f\\u0995\\u099c\\u09a8 \\u0986\\u09b0\\u09c7\\u0995\\u099c\\u09a8 \\u0995\\u09c7 \\u09aa\\u09cd\\u09b0\\u099a\\u09a8\\u09cd\\u09a1 \\u09ad\\u09be\\u09b2\\u09cb\\u09ac\\u09be\\u09b8\\u09c7\"\n        ],\n        \"semantic_type\": \"\",\n        \"description\": \"\"\n      }\n    },\n    {\n      \"column\": \"region_name\",\n      \"properties\": {\n        \"dtype\": \"category\",\n        \"num_unique_values\": 1,\n        \"samples\": [\n          \"Chittagong\"\n        ],\n        \"semantic_type\": \"\",\n        \"description\": \"\"\n      }\n    },\n    {\n      \"column\": \"combined\",\n      \"properties\": {\n        \"dtype\": \"string\",\n        \"num_unique_values\": 2498,\n        \"samples\": [\n          \"Chittagong \\u09ac\\u09b9\\u09c1\\u09c1 \\u09a6\\u09bf\\u09a8 \\u09a6\\u09b0\\u09bf\\u09df\\u09c7\\u09b0\\u09c7 \\u0987\\u09a8 \\u09a8\\u09cb \\u0996\\u09c1\\u09b2\\u09c7\"\n        ],\n        \"semantic_type\": \"\",\n        \"description\": \"\"\n      }\n    }\n  ]\n}"
            }
          },
          "metadata": {},
          "execution_count": 60
        }
      ]
    },
    {
      "cell_type": "code",
      "source": [
        "vashantor_barishal['combined'].str.len().max()"
      ],
      "metadata": {
        "colab": {
          "base_uri": "https://localhost:8080/"
        },
        "id": "BL0MeCGtKzmp",
        "outputId": "d655b450-ce5b-474e-d53e-0ca0564e4858"
      },
      "execution_count": null,
      "outputs": [
        {
          "output_type": "execute_result",
          "data": {
            "text/plain": [
              "123"
            ]
          },
          "metadata": {},
          "execution_count": 73
        }
      ]
    },
    {
      "cell_type": "code",
      "source": [
        "# https://huggingface.co/teamapocalypseml/regben2ipa-byt5small\n",
        "# Load model directly\n",
        "from transformers import AutoTokenizer, AutoModelForSeq2SeqLM\n",
        "\n",
        "tokenizer = AutoTokenizer.from_pretrained(\"abdullaharean/regipa_bangla\")\n",
        "model = AutoModelForSeq2SeqLM.from_pretrained(\"abdullaharean/regipa_bangla\")"
      ],
      "metadata": {
        "id": "S1oXA2rBglGm",
        "collapsed": true
      },
      "execution_count": null,
      "outputs": []
    },
    {
      "cell_type": "code",
      "source": [
        "#text = \"<district> bengali_text_here\"\n",
        "text = vashantor_barishal['combined'][2]\n",
        "inputs = tokenizer(text, return_tensors='pt')\n",
        "output_ids = model.generate(**inputs,\n",
        "        max_length=128,   # or 256, depending on your text length\n",
        "        num_beams=4,      # optional: makes output better (beam search)\n",
        "        early_stopping=True)\n",
        "print(tokenizer.decode(output_ids[0], skip_special_tokens=False))"
      ],
      "metadata": {
        "colab": {
          "base_uri": "https://localhost:8080/"
        },
        "id": "tH4Zhvf7Jble",
        "outputId": "b3f01caa-6afe-4504-c973-9e71a5a34e4e"
      },
      "execution_count": null,
      "outputs": [
        {
          "output_type": "stream",
          "name": "stdout",
          "text": [
            "<pad>bɐɾɔhɐl  t̪umɪ kɪ moɾe e͡ɪ̯ kɐmdɐ ko͡ɪ̯ɾɾɐ d̪et̪e pɐɾbɐ?</s>\n"
          ]
        }
      ]
    },
    {
      "cell_type": "code",
      "source": [
        "outputs = []\n",
        "\n",
        "\"\"\"\n",
        "  The format of the input text MUST BE: <district> <bengali_text>\n",
        "\"\"\"\n",
        "model = model.to(device)\n",
        "\n",
        "def translate_text(text):\n",
        "    inputs = tokenizer(text, return_tensors='pt').to(device)\n",
        "    output_ids = model.generate(**inputs,\n",
        "        max_length=128,   # or 256, depending on your text length\n",
        "        num_beams=4,      # optional: makes output better (beam search)\n",
        "        early_stopping=True)\n",
        "    return tokenizer.decode(output_ids[0], skip_special_tokens=True)\n",
        "\n"
      ],
      "metadata": {
        "collapsed": true,
        "id": "lEDoml6N8civ"
      },
      "execution_count": null,
      "outputs": []
    },
    {
      "cell_type": "code",
      "source": [
        "vashantor_barishal['ipa_output'] = vashantor_barishal['combined'].astype(str).apply(translate_text)"
      ],
      "metadata": {
        "id": "8379IVkVUFia"
      },
      "execution_count": null,
      "outputs": []
    },
    {
      "cell_type": "code",
      "source": [
        "vashantor_barishal.to_csv('vashantor_barishal_ipa.csv', index=False)"
      ],
      "metadata": {
        "id": "8d33MM6LUjLf"
      },
      "execution_count": null,
      "outputs": []
    },
    {
      "cell_type": "code",
      "source": [
        "vashantor_chittagong['ipa_output'] = vashantor_chittagong['combined'].astype(str).progress_apply(translate_text)"
      ],
      "metadata": {
        "colab": {
          "base_uri": "https://localhost:8080/"
        },
        "id": "02AMpYzDTqxC",
        "outputId": "80d3d8a1-2561-4874-987d-1cbbc36d6b13"
      },
      "execution_count": null,
      "outputs": [
        {
          "output_type": "stream",
          "name": "stderr",
          "text": [
            "100%|██████████| 2499/2499 [30:11<00:00,  1.38it/s]\n"
          ]
        }
      ]
    },
    {
      "cell_type": "code",
      "source": [
        "vashantor_chittagong.to_csv('vashantor_chittagong_ipa.csv', index=False)"
      ],
      "metadata": {
        "id": "eQXTLtnTXnsH"
      },
      "execution_count": null,
      "outputs": []
    },
    {
      "cell_type": "code",
      "source": [
        "vashantor_noakhali['ipa_output'] = vashantor_noakhali['combined'].astype(str).progress_apply(translate_text)\n",
        "vashantor_noakhali.to_csv('vashantor_noakhali_ipa.csv', index=False)"
      ],
      "metadata": {
        "colab": {
          "base_uri": "https://localhost:8080/"
        },
        "id": "NuGyeWtwkueF",
        "outputId": "bd9a27c1-766f-46b1-cfce-4780f60cb6bc"
      },
      "execution_count": null,
      "outputs": [
        {
          "output_type": "stream",
          "name": "stderr",
          "text": [
            "100%|██████████| 2499/2499 [30:26<00:00,  1.37it/s]\n"
          ]
        }
      ]
    },
    {
      "cell_type": "code",
      "source": [
        "vashantor_mymensingh['ipa_output'] = vashantor_mymensingh['combined'].astype(str).progress_apply(translate_text)\n",
        "vashantor_mymensingh.to_csv('vashantor_mymensingh_ipa.csv', index=False)"
      ],
      "metadata": {
        "colab": {
          "base_uri": "https://localhost:8080/"
        },
        "id": "cFUJjprjl2LL",
        "outputId": "1367bb33-d130-4834-be8a-c00915c4b5e4"
      },
      "execution_count": null,
      "outputs": [
        {
          "output_type": "stream",
          "name": "stderr",
          "text": [
            "100%|██████████| 2499/2499 [30:41<00:00,  1.36it/s]\n"
          ]
        }
      ]
    },
    {
      "cell_type": "code",
      "source": [
        "vashantor_sylhet['ipa_output'] = vashantor_sylhet['combined'].astype(str).progress_apply(translate_text)\n",
        "vashantor_sylhet.to_csv('vashantor_sylhet_ipa.csv', index=False)"
      ],
      "metadata": {
        "colab": {
          "base_uri": "https://localhost:8080/"
        },
        "id": "lcmjR3hCl6fg",
        "outputId": "c630d150-9024-45d6-e666-75701586281e"
      },
      "execution_count": null,
      "outputs": [
        {
          "output_type": "stream",
          "name": "stderr",
          "text": [
            "100%|██████████| 2499/2499 [30:30<00:00,  1.36it/s]\n"
          ]
        }
      ]
    },
    {
      "cell_type": "code",
      "source": [
        "vashantor_barishal = pd.read_csv('vashantor_noakhali_ipa_with_bangla_ipa.csv')\n",
        "vashantor_chittagong = pd.read_csv('vashantor_noakhali_ipa_with_bangla_ipa.csv')\n",
        "vashantor_noakhali = pd.read_csv('vashantor_noakhali_ipa_with_bangla_ipa.csv')\n",
        "vashantor_mymensingh = pd.read_csv('vashantor_noakhali_ipa_with_bangla_ipa.csv')\n",
        "vashantor_sylhet = pd.read_csv('vashantor_noakhali_ipa_with_bangla_ipa.csv')"
      ],
      "metadata": {
        "id": "ea0IaSCd7DPj"
      },
      "execution_count": null,
      "outputs": []
    },
    {
      "cell_type": "code",
      "source": [
        "#import epitran\n",
        "\n",
        "# # Apply the transliteration function to the 'text' column\n",
        "# df['bangla_speech_ipa'] = df['bangla_speech'].progress_apply(lambda x: epi_beng.transliterate(str(x)))\n",
        "\n",
        "# df.to_csv('vashantor_sylhet_ipa_with_bangla_ipa.csv', index=False)"
      ],
      "metadata": {
        "id": "uGNTpESS_vfB"
      },
      "execution_count": null,
      "outputs": []
    }
  ]
}